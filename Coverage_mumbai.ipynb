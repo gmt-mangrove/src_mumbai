{
 "cells": [
  {
   "cell_type": "markdown",
   "metadata": {},
   "source": [
    "# Coverage "
   ]
  },
  {
   "cell_type": "code",
   "execution_count": 1,
   "metadata": {},
   "outputs": [],
   "source": [
    "# Notebook dependencies\n",
    "from __future__ import print_function\n",
    "\n",
    "import datetime\n",
    "import copy\n",
    "from functools import partial\n",
    "import os\n",
    "\n",
    "from IPython.display import display, Image\n",
    "import matplotlib\n",
    "from matplotlib import cm\n",
    "import matplotlib.pyplot as plt\n",
    "import numpy as np\n",
    "import pandas as pd\n",
    "from planet import api\n",
    "from planet.api import filters\n",
    "import pyproj\n",
    "import rasterio\n",
    "from rasterio import features as rfeatures\n",
    "from shapely import geometry as sgeom\n",
    "import shapely.ops\n",
    "\n",
    "%matplotlib inline"
   ]
  },
  {
   "cell_type": "markdown",
   "metadata": {},
   "source": [
    "## Define AOI"
   ]
  },
  {
   "cell_type": "code",
   "execution_count": 2,
   "metadata": {},
   "outputs": [],
   "source": [
    "aoi = {u'geometry': {u'type': u'Polygon', u'coordinates': [[[72.97000175203785,19.14391439922467],[72.96381041723295,19.144607605544408],[72.96592005724055,19.139105200224847],[72.96665384506929,19.13906187347095],[72.96798383550885,19.140231691835268],[72.97000175203785,19.14391439922467]]]}, u'type': u'Feature', u'properties': {u'style': {u'opacity': 0.5, u'fillOpacity': 0.2, u'noClip': False, u'weight': 4, u'color': u'blue', u'lineCap': None, u'dashArray': None, u'smoothFactor': 1, u'stroke': True, u'fillColor': None, u'clickable': True, u'lineJoin': None, u'fill': True}}}"
   ]
  },
  {
   "cell_type": "code",
   "execution_count": 3,
   "metadata": {},
   "outputs": [],
   "source": [
    "# this notebook uses rasterio Shapes for processing, so lets convert that geojson to a shape\n",
    "aoi_shape = sgeom.shape(aoi['geometry'])"
   ]
  },
  {
   "cell_type": "code",
   "execution_count": 4,
   "metadata": {},
   "outputs": [
    {
     "name": "stdout",
     "output_type": "stream",
     "text": [
      "{'item_types': ['PSOrthoTile'], 'filter': {'type': 'AndFilter', 'config': ({'field_name': 'geometry', 'type': 'GeometryFilter', 'config': {'type': 'Polygon', 'coordinates': (((72.97000175203785, 19.14391439922467), (72.96381041723295, 19.144607605544408), (72.96592005724055, 19.139105200224847), (72.96665384506929, 19.13906187347095), (72.96798383550885, 19.140231691835268), (72.97000175203785, 19.14391439922467)),)}}, {'field_name': 'cloud_cover', 'type': 'RangeFilter', 'config': {'lt': 20}}, {'field_name': 'acquired', 'type': 'DateRangeFilter', 'config': {'gt': '2019-03-01T00:00:00Z'}}, {'field_name': 'acquired', 'type': 'DateRangeFilter', 'config': {'lt': '2019-06-01T00:00:00Z'}})}}\n"
     ]
    }
   ],
   "source": [
    "#Build reauest \n",
    "\n",
    "def build_request(aoi_shape):\n",
    "    old = datetime.datetime(year=2019,month=3,day=1)\n",
    "    new = datetime.datetime(year=2019,month=6,day=1)\n",
    "\n",
    "    query = filters.and_filter(\n",
    "        filters.geom_filter(sgeom.mapping(aoi_shape)),\n",
    "        filters.range_filter('cloud_cover', lt=20),\n",
    "        filters.date_range('acquired', gt=old),\n",
    "        filters.date_range('acquired', lt=new)\n",
    "    )\n",
    "    \n",
    "    item_types = ['PSOrthoTile']\n",
    "    return filters.build_search_request(query, item_types)\n",
    "\n",
    "request = build_request(aoi_shape)\n",
    "print(request)"
   ]
  },
  {
   "cell_type": "markdown",
   "metadata": {},
   "source": [
    "## Check AOI and Determine Coverage Grid Dimensions\n",
    "#### We convert the AOI to UTM and ensure that it is large enough to include at least a few grid cells 9m x 9m (approximately 3x PS Orthotile resolution)"
   ]
  },
  {
   "cell_type": "code",
   "execution_count": 5,
   "metadata": {},
   "outputs": [
    {
     "name": "stdout",
     "output_type": "stream",
     "text": [
      "POLYGON ((286491.9529297543 2117992.131892674, 285841.4486154708 2118076.456537463, 286056.3119514766 2117464.728202834, 286133.4612384945 2117459.03287701, 286274.9020114534 2117586.908667456, 286491.9529297543 2117992.131892674))\n"
     ]
    }
   ],
   "source": [
    "# Utility functions: projecting a feature to the appropriate UTM zone\n",
    "\n",
    "def get_utm_projection_fcn(shape):\n",
    "    # define projection\n",
    "    # from shapely [docs](http://toblerity.org/shapely/manual.html#shapely.ops.transform)\n",
    "    proj_fcn = partial(\n",
    "        pyproj.transform,\n",
    "        pyproj.Proj(init='epsg:4326'), #wgs84\n",
    "        _get_utm_projection(shape))\n",
    "    return proj_fcn\n",
    "\n",
    "\n",
    "def _get_utm_zone(shape):\n",
    "    '''geom: geojson geometry'''\n",
    "    centroid = shape.centroid\n",
    "    lon = centroid.x\n",
    "    lat = centroid.y\n",
    "    \n",
    "    if lat > 84 or lat < -80:\n",
    "        raise Exception('UTM Zones only valid within [-80, 84] latitude')\n",
    "    \n",
    "    # this is adapted from\n",
    "    # https://www.e-education.psu.edu/natureofgeoinfo/book/export/html/1696\n",
    "    zone = int((lon + 180) / 6 + 1)\n",
    "    \n",
    "    hemisphere = 'north' if lat > 0 else 'south'\n",
    "    \n",
    "    return (zone, hemisphere)\n",
    "\n",
    "\n",
    "def _get_utm_projection(shape):\n",
    "    zone, hemisphere = _get_utm_zone(shape)\n",
    "    proj_str = \"+proj=utm +zone={zone}, +{hemi} +ellps=WGS84 +datum=WGS84 +units=m +no_defs\".format(\n",
    "        zone=zone, hemi=hemisphere)\n",
    "    return pyproj.Proj(proj_str)\n",
    "\n",
    "\n",
    "proj_fcn = get_utm_projection_fcn(aoi_shape)\n",
    "aoi_shape_utm = shapely.ops.transform(proj_fcn, aoi_shape)\n",
    "print(aoi_shape_utm)"
   ]
  },
  {
   "cell_type": "code",
   "execution_count": 6,
   "metadata": {},
   "outputs": [
    {
     "name": "stdout",
     "output_type": "stream",
     "text": [
      "[68, 72]\n"
     ]
    }
   ],
   "source": [
    "def get_coverage_dimensions(aoi_shape_utm):\n",
    "    '''Checks that aoi is big enough and calculates the dimensions for coverage grid.'''\n",
    "    minx, miny, maxx, maxy = aoi_shape_utm.bounds\n",
    "    width = maxx - minx\n",
    "    height = maxy - miny\n",
    "    \n",
    "    min_cell_size = 9 # in meters, approx 3x ground sampling distance\n",
    "    min_number_of_cells = 3\n",
    "    max_number_of_cells = 3000\n",
    "    \n",
    "    \n",
    "    min_dim = min_cell_size * min_number_of_cells\n",
    "    if height < min_dim:\n",
    "        raise Exception('AOI height too small, should be {}m.'.format(min_dim))\n",
    "\n",
    "    if width < min_dim:\n",
    "        raise Exception('AOI width too small, should be {}m.'.format(min_dim))\n",
    "    \n",
    "    def _dim(length):\n",
    "        return min(int(length/min_cell_size), max_number_of_cells)\n",
    "\n",
    "    return [_dim(l) for l in (height, width)]\n",
    "\n",
    "\n",
    "dimensions = get_coverage_dimensions(aoi_shape_utm)\n",
    "print(dimensions)"
   ]
  },
  {
   "cell_type": "code",
   "execution_count": 7,
   "metadata": {},
   "outputs": [],
   "source": [
    "def get_api_key():\n",
    "    return os.environ['PL_API_KEY']\n",
    "\n",
    "\n",
    "# quick check that key is defined\n",
    "assert get_api_key(), \"PL_API_KEY not defined.\""
   ]
  },
  {
   "cell_type": "code",
   "execution_count": 8,
   "metadata": {},
   "outputs": [],
   "source": [
    "def create_client():\n",
    "    return api.ClientV1(api_key=get_api_key())\n",
    "\n",
    "\n",
    "def search_pl_api(request, limit=500):\n",
    "    client = create_client()\n",
    "    result = client.quick_search(request)\n",
    "    \n",
    "    # note that this returns a generator\n",
    "    return result.items_iter(limit=limit)"
   ]
  },
  {
   "cell_type": "markdown",
   "metadata": {},
   "source": [
    "## Calculate Coverage\n",
    "First query the planet api for the items that match the request defined above, then calculate the overlap between each item and the aoi. Finally, convert each overlap to a grid using rasterio.rasterize, accumulate coverage over the overlap grids, and display the coverage grid."
   ]
  },
  {
   "cell_type": "code",
   "execution_count": 9,
   "metadata": {},
   "outputs": [
    {
     "name": "stdout",
     "output_type": "stream",
     "text": [
      "78\n"
     ]
    }
   ],
   "source": [
    "def get_overlap_shapes_utm(items, aoi_shape):\n",
    "    '''Determine overlap between item footprint and AOI in UTM.'''\n",
    "    \n",
    "    proj_fcn = get_utm_projection_fcn(aoi_shape)\n",
    "    aoi_shape_utm = shapely.ops.transform(proj_fcn, aoi_shape)\n",
    "\n",
    "    def _calculate_overlap(item):\n",
    "        footprint_shape = sgeom.shape(item['geometry'])\n",
    "        footprint_shape_utm = shapely.ops.transform(proj_fcn, footprint_shape)\n",
    "        return aoi_shape_utm.intersection(footprint_shape_utm)\n",
    "\n",
    "    for i in items:\n",
    "        yield _calculate_overlap(i)\n",
    "\n",
    "\n",
    "items = search_pl_api(request)\n",
    "\n",
    "# cache the overlaps as a list so we don't have to refetch items\n",
    "overlaps = list(get_overlap_shapes_utm(items, aoi_shape))\n",
    "print(len(overlaps))"
   ]
  },
  {
   "cell_type": "code",
   "execution_count": 10,
   "metadata": {},
   "outputs": [
    {
     "data": {
      "image/svg+xml": [
       "<svg xmlns=\"http://www.w3.org/2000/svg\" xmlns:xlink=\"http://www.w3.org/1999/xlink\" width=\"300\" height=\"300\" viewBox=\"285815.4284428995 2117433.0127044385 702.5446594261448 669.4640055960044\" preserveAspectRatio=\"xMinYMin meet\"><g transform=\"matrix(1,0,0,-1,0,4235535.489414473)\"><path fill-rule=\"evenodd\" fill=\"#66cc99\" stroke=\"#555555\" stroke-width=\"4.683631062840965\" opacity=\"0.6\" d=\"M 286491.9529297543,2117992.131892674 L 286274.9020114534,2117586.908667456 L 286133.4612384945,2117459.03287701 L 286056.3119514766,2117464.7282028343 L 285841.44861547084,2118076.4565374632 L 286491.9529297543,2117992.131892674 z\" /></g></svg>"
      ],
      "text/plain": [
       "<shapely.geometry.polygon.Polygon at 0x218598aaf28>"
      ]
     },
     "metadata": {},
     "output_type": "display_data"
    }
   ],
   "source": [
    "# what do overlaps look like?\n",
    "# lets just look at the first overlap to avoid a long output cell\n",
    "display(overlaps[0])"
   ]
  },
  {
   "cell_type": "code",
   "execution_count": 11,
   "metadata": {},
   "outputs": [
    {
     "data": {
      "text/plain": [
       "array([[74, 76,  0],\n",
       "       [74, 76, 76],\n",
       "       [74, 76, 76],\n",
       "       [ 0, 76,  0],\n",
       "       [ 0, 74,  0],\n",
       "       [ 0, 74,  0]], dtype=uint16)"
      ]
     },
     "metadata": {},
     "output_type": "display_data"
    }
   ],
   "source": [
    "def calculate_coverage(overlaps, dimensions, bounds):\n",
    "    \n",
    "    # get dimensions of coverage raster\n",
    "    mminx, mminy, mmaxx, mmaxy = bounds\n",
    "\n",
    "    y_count, x_count = dimensions\n",
    "    \n",
    "    # determine pixel width and height for transform\n",
    "    width = (mmaxx - mminx) / x_count\n",
    "    height = (mminy - mmaxy) / y_count # should be negative\n",
    "\n",
    "    # Affine(a, b, c, d, e, f) where:\n",
    "    # a = width of a pixel\n",
    "    # b = row rotation (typically zero)\n",
    "    # c = x-coordinate of the upper-left corner of the upper-left pixel\n",
    "    # d = column rotation (typically zero)\n",
    "    # e = height of a pixel (typically negative)\n",
    "    # f = y-coordinate of the of the upper-left corner of the upper-left pixel\n",
    "    # ref: http://www.perrygeo.com/python-affine-transforms.html\n",
    "    transform = rasterio.Affine(width, 0, mminx, 0, height, mmaxy)\n",
    "    \n",
    "    coverage = np.zeros(dimensions, dtype=np.uint16)\n",
    "    for overlap in overlaps:\n",
    "        if not overlap.is_empty:\n",
    "            # rasterize overlap vector, transforming to coverage raster\n",
    "            # pixels inside overlap have a value of 1, others have a value of 0\n",
    "            overlap_raster = rfeatures.rasterize(\n",
    "                    [sgeom.mapping(overlap)],\n",
    "                    fill=0,\n",
    "                    default_value=1,\n",
    "                    out_shape=dimensions,\n",
    "                    transform=transform)\n",
    "            \n",
    "            # add overlap raster to coverage raster\n",
    "            coverage += overlap_raster\n",
    "    return coverage\n",
    "\n",
    "\n",
    "# what is a low-resolution look at the coverage grid?\n",
    "display(calculate_coverage(overlaps, (6,3), aoi_shape_utm.bounds))"
   ]
  },
  {
   "cell_type": "code",
   "execution_count": 12,
   "metadata": {},
   "outputs": [
    {
     "data": {
      "image/png": "[encoded data removed]",
      "text/plain": [
       "<Figure size 432x288 with 2 Axes>"
      ]
     },
     "metadata": {
      "needs_background": "light"
     },
     "output_type": "display_data"
    }
   ],
   "source": [
    "def plot_coverage(coverage):\n",
    "    fig, ax = plt.subplots()\n",
    "    cax = ax.imshow(coverage, interpolation='nearest', cmap=cm.viridis)\n",
    "    ax.set_title('Coverage\\n(median: {})'.format(int(np.median(coverage))))\n",
    "    ax.axis('off')\n",
    "    \n",
    "    ticks_min = coverage.min()\n",
    "    ticks_max = coverage.max()\n",
    "    cbar = fig.colorbar(cax,ticks=[ticks_min, ticks_max])\n",
    "\n",
    "\n",
    "plot_coverage(calculate_coverage(overlaps, dimensions, aoi_shape_utm.bounds))"
   ]
  },
  {
   "cell_type": "markdown",
   "metadata": {},
   "source": [
    "## Comparing Coverage"
   ]
  },
  {
   "cell_type": "code",
   "execution_count": 13,
   "metadata": {},
   "outputs": [],
   "source": [
    "demo_aoi = aoi  # use the same aoi that was used before\n",
    "\n",
    "demo_aoi_shape = sgeom.shape(demo_aoi['geometry'])\n",
    "\n",
    "proj_fcn = get_utm_projection_fcn(demo_aoi_shape)\n",
    "demo_aoi_shape_utm = shapely.ops.transform(proj_fcn, demo_aoi_shape)\n",
    "demo_dimensions = get_coverage_dimensions(demo_aoi_shape_utm)"
   ]
  },
  {
   "cell_type": "code",
   "execution_count": 14,
   "metadata": {},
   "outputs": [],
   "source": [
    "# Parameterize our search request by start/stop dates for this comparison\n",
    "def build_request_by_dates(aoi_shape, old, new):\n",
    "    query = filters.and_filter(\n",
    "        filters.geom_filter(sgeom.mapping(aoi_shape)),\n",
    "        filters.range_filter('cloud_cover', lt=5),\n",
    "        filters.date_range('acquired', gt=old),\n",
    "        filters.date_range('acquired', lt=new)\n",
    "    )\n",
    "    \n",
    "    item_types = ['PSOrthoTile']\n",
    "    return filters.build_search_request(query, item_types)"
   ]
  },
  {
   "cell_type": "code",
   "execution_count": 20,
   "metadata": {},
   "outputs": [
    {
     "data": {
      "image/png": "[encoded data removed]",
      "text/plain": [
       "<Figure size 432x288 with 2 Axes>"
      ]
     },
     "metadata": {
      "needs_background": "light"
     },
     "output_type": "display_data"
    }
   ],
   "source": [
    "request_2017 = build_request_by_dates(demo_aoi_shape,\n",
    "                                      datetime.datetime(year=2017,month=3,day=1),\n",
    "                                      datetime.datetime(year=2017,month=6,day=1))                                    \n",
    "items = search_pl_api(request_2017)\n",
    "overlaps = list(get_overlap_shapes_utm(items, demo_aoi_shape))\n",
    "plot_coverage(calculate_coverage(overlaps, demo_dimensions, demo_aoi_shape_utm.bounds))"
   ]
  },
  {
   "cell_type": "code",
   "execution_count": 21,
   "metadata": {},
   "outputs": [
    {
     "data": {
      "image/png": "[encoded data removed]",
      "text/plain": [
       "<Figure size 432x288 with 2 Axes>"
      ]
     },
     "metadata": {
      "needs_background": "light"
     },
     "output_type": "display_data"
    }
   ],
   "source": [
    "request_2020 = build_request_by_dates(demo_aoi_shape,\n",
    "                                      datetime.datetime(year=2020,month=3,day=1),\n",
    "                                      datetime.datetime(year=2020,month=6,day=1))\n",
    "items = search_pl_api(request_2020)\n",
    "overlaps = list(get_overlap_shapes_utm(items, demo_aoi_shape))\n",
    "plot_coverage(calculate_coverage(overlaps, demo_dimensions, demo_aoi_shape_utm.bounds))"
   ]
  },
  {
   "cell_type": "code",
   "execution_count": null,
   "metadata": {},
   "outputs": [],
   "source": []
  }
 ],
 "metadata": {
  "kernelspec": {
   "display_name": "Python 3",
   "language": "python",
   "name": "python3"
  },
  "language_info": {
   "codemirror_mode": {
    "name": "ipython",
    "version": 3
   },
   "file_extension": ".py",
   "mimetype": "text/x-python",
   "name": "python",
   "nbconvert_exporter": "python",
   "pygments_lexer": "ipython3",
   "version": "3.6.4"
  }
 },
 "nbformat": 4,
 "nbformat_minor": 2
}
